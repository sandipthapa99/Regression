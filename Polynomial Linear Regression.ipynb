{
 "cells": [
  {
   "cell_type": "markdown",
   "id": "severe-notice",
   "metadata": {},
   "source": [
    "<h4>Importing modules"
   ]
  },
  {
   "cell_type": "code",
   "execution_count": 4,
   "id": "threaded-white",
   "metadata": {},
   "outputs": [],
   "source": [
    "import pandas as pd\n",
    "import numpy as np\n",
    "from matplotlib import pyplot as plt\n",
    "%matplotlib inline\n",
    "import math"
   ]
  },
  {
   "cell_type": "markdown",
   "id": "classical-plane",
   "metadata": {},
   "source": [
    "<h4>Reading dataset"
   ]
  },
  {
   "cell_type": "code",
   "execution_count": 5,
   "id": "sharing-desire",
   "metadata": {},
   "outputs": [
    {
     "data": {
      "text/html": [
       "<div>\n",
       "<style scoped>\n",
       "    .dataframe tbody tr th:only-of-type {\n",
       "        vertical-align: middle;\n",
       "    }\n",
       "\n",
       "    .dataframe tbody tr th {\n",
       "        vertical-align: top;\n",
       "    }\n",
       "\n",
       "    .dataframe thead th {\n",
       "        text-align: right;\n",
       "    }\n",
       "</style>\n",
       "<table border=\"1\" class=\"dataframe\">\n",
       "  <thead>\n",
       "    <tr style=\"text-align: right;\">\n",
       "      <th></th>\n",
       "      <th>Position</th>\n",
       "      <th>Level</th>\n",
       "      <th>Salary</th>\n",
       "    </tr>\n",
       "  </thead>\n",
       "  <tbody>\n",
       "    <tr>\n",
       "      <th>0</th>\n",
       "      <td>Business Analyst</td>\n",
       "      <td>1</td>\n",
       "      <td>45000</td>\n",
       "    </tr>\n",
       "    <tr>\n",
       "      <th>1</th>\n",
       "      <td>Junior Consultant</td>\n",
       "      <td>2</td>\n",
       "      <td>50000</td>\n",
       "    </tr>\n",
       "    <tr>\n",
       "      <th>2</th>\n",
       "      <td>Senior Consultant</td>\n",
       "      <td>3</td>\n",
       "      <td>60000</td>\n",
       "    </tr>\n",
       "    <tr>\n",
       "      <th>3</th>\n",
       "      <td>Manager</td>\n",
       "      <td>4</td>\n",
       "      <td>80000</td>\n",
       "    </tr>\n",
       "    <tr>\n",
       "      <th>4</th>\n",
       "      <td>Country Manager</td>\n",
       "      <td>5</td>\n",
       "      <td>110000</td>\n",
       "    </tr>\n",
       "  </tbody>\n",
       "</table>\n",
       "</div>"
      ],
      "text/plain": [
       "            Position  Level  Salary\n",
       "0   Business Analyst      1   45000\n",
       "1  Junior Consultant      2   50000\n",
       "2  Senior Consultant      3   60000\n",
       "3            Manager      4   80000\n",
       "4    Country Manager      5  110000"
      ]
     },
     "execution_count": 5,
     "metadata": {},
     "output_type": "execute_result"
    }
   ],
   "source": [
    "df = pd.read_csv(\"dataset/Position_Salaries.csv\")\n",
    "df.head(5)"
   ]
  },
  {
   "cell_type": "markdown",
   "id": "unnecessary-cabin",
   "metadata": {},
   "source": [
    "<h4>Data Visualization"
   ]
  },
  {
   "cell_type": "code",
   "execution_count": 6,
   "id": "positive-external",
   "metadata": {
    "scrolled": true
   },
   "outputs": [
    {
     "data": {
      "text/plain": [
       "<matplotlib.collections.PathCollection at 0x211bdb6f1f0>"
      ]
     },
     "execution_count": 6,
     "metadata": {},
     "output_type": "execute_result"
    },
    {
     "data": {
      "image/png": "[encoded data removed]",
      "text/plain": [
       "<Figure size 432x288 with 1 Axes>"
      ]
     },
     "metadata": {
      "needs_background": "light"
     },
     "output_type": "display_data"
    }
   ],
   "source": [
    "plt.xlabel('Level')\n",
    "plt.ylabel('Salary')\n",
    "plt.scatter(df.Level,df.Salary, color='red')"
   ]
  },
  {
   "cell_type": "markdown",
   "id": "intelligent-sally",
   "metadata": {},
   "source": [
    "<h4>Preparing dependent and independent variable"
   ]
  },
  {
   "cell_type": "code",
   "execution_count": 7,
   "id": "eastern-leisure",
   "metadata": {},
   "outputs": [],
   "source": [
    "x=df.iloc[:,1:2].values\n",
    "y=df.iloc[:,2:].values"
   ]
  },
  {
   "cell_type": "markdown",
   "id": "upset-steal",
   "metadata": {},
   "source": [
    "<h4>Split the Dataset into Training and Test Dataset"
   ]
  },
  {
   "cell_type": "code",
   "execution_count": 21,
   "id": "double-cornwall",
   "metadata": {},
   "outputs": [],
   "source": [
    "from sklearn.model_selection import train_test_split\n",
    "X_train, X_test, y_train, y_test = train_test_split(x, y, test_size=0.3, random_state=0, shuffle=False)"
   ]
  },
  {
   "cell_type": "code",
   "execution_count": 22,
   "id": "consistent-series",
   "metadata": {},
   "outputs": [
    {
     "name": "stdout",
     "output_type": "stream",
     "text": [
      "(7, 1) (3, 1) (7, 1) (3, 1)\n"
     ]
    }
   ],
   "source": [
    "print(X_train.shape, X_test.shape, y_train.shape, y_test.shape)"
   ]
  },
  {
   "cell_type": "markdown",
   "id": "detailed-uncertainty",
   "metadata": {},
   "source": [
    "<h4> Creating and Training the Model for Linear Regression"
   ]
  },
  {
   "cell_type": "code",
   "execution_count": 45,
   "id": "backed-boring",
   "metadata": {},
   "outputs": [
    {
     "data": {
      "text/plain": [
       "LinearRegression()"
      ]
     },
     "execution_count": 45,
     "metadata": {},
     "output_type": "execute_result"
    }
   ],
   "source": [
    "from sklearn.linear_model import LinearRegression\n",
    "LinearModel=LinearRegression()\n",
    "LinearModel.fit(X_train,y_train)"
   ]
  },
  {
   "cell_type": "markdown",
   "id": "modified-medium",
   "metadata": {},
   "source": [
    "<h4> Plotting Best Fit line for Simple Linear Regression"
   ]
  },
  {
   "cell_type": "code",
   "execution_count": 46,
   "id": "oriental-triangle",
   "metadata": {},
   "outputs": [
    {
     "data": {
      "image/png": "[encoded data removed]",
      "text/plain": [
       "<Figure size 432x288 with 1 Axes>"
      ]
     },
     "metadata": {
      "needs_background": "light"
     },
     "output_type": "display_data"
    }
   ],
   "source": [
    "plt.scatter(X_train, y_train)\n",
    "plt.plot(X_train,LinearModel.predict(X_train), color='r')\n",
    "plt.title('Linear Regression')\n",
    "plt.xlabel('Level')\n",
    "plt.ylabel('Saslary')\n",
    "plt.show()"
   ]
  },
  {
   "cell_type": "markdown",
   "id": "overall-rouge",
   "metadata": {},
   "source": [
    "<h4> Importing Polynomial features"
   ]
  },
  {
   "cell_type": "code",
   "execution_count": 47,
   "id": "recovered-algebra",
   "metadata": {},
   "outputs": [
    {
     "data": {
      "text/plain": [
       "array([[ 1.,  1.,  1.],\n",
       "       [ 1.,  2.,  4.],\n",
       "       [ 1.,  3.,  9.],\n",
       "       [ 1.,  4., 16.],\n",
       "       [ 1.,  5., 25.],\n",
       "       [ 1.,  6., 36.],\n",
       "       [ 1.,  7., 49.]])"
      ]
     },
     "execution_count": 47,
     "metadata": {},
     "output_type": "execute_result"
    }
   ],
   "source": [
    "from sklearn.preprocessing import PolynomialFeatures\n",
    "poly=PolynomialFeatures(degree=2)\n",
    "x_poly= poly.fit_transform(X_train)\n",
    "x_poly\n",
    "# here x_poly = a0 + a1x1 + a2x1^2"
   ]
  },
  {
   "cell_type": "markdown",
   "id": "quarterly-italy",
   "metadata": {},
   "source": [
    "<h4> Creating and Training the model for Polynomial Linear Regression"
   ]
  },
  {
   "cell_type": "code",
   "execution_count": 48,
   "id": "visible-wheel",
   "metadata": {},
   "outputs": [],
   "source": [
    "PolyModel=LinearRegression()\n",
    "PolyModel.fit(x_poly,y_train)\n",
    "y_predict=PolyModel.predict(poly.fit_transform(X_train))"
   ]
  },
  {
   "cell_type": "code",
   "execution_count": 49,
   "id": "gorgeous-ghost",
   "metadata": {},
   "outputs": [
    {
     "data": {
      "image/png": "[encoded data removed]",
      "text/plain": [
       "<Figure size 432x288 with 1 Axes>"
      ]
     },
     "metadata": {
      "needs_background": "light"
     },
     "output_type": "display_data"
    }
   ],
   "source": [
    "plt.scatter(X_train,y_train)\n",
    "plt.plot(X_train,y_predict, color='r')\n",
    "plt.title('Polynomial Regression') \n",
    "plt.xlabel('Level') \n",
    "plt.ylabel('Salary') \n",
    "plt.show() "
   ]
  },
  {
   "cell_type": "markdown",
   "id": "brown-reservoir",
   "metadata": {},
   "source": [
    "### Performance of Simple Linear Regression"
   ]
  },
  {
   "cell_type": "code",
   "execution_count": 50,
   "id": "hourly-reggae",
   "metadata": {},
   "outputs": [
    {
     "name": "stdout",
     "output_type": "stream",
     "text": [
      "R-Square Error of Simple Linear Regression: -1.4731579915620094\n"
     ]
    }
   ],
   "source": [
    "#Predicted Salary from test dataset w.r.t Simple Linear Regression\n",
    "y_predict_slr = LinearModel.predict(X_test)\n",
    "\n",
    "from sklearn.metrics import mean_squared_error, r2_score\n",
    "#Model Evaluation using R-Square for Simple Linear Regression\n",
    "r_square = metrics.r2_score(y_test, y_predict_slr)\n",
    "print('R-Square Error of Simple Linear Regression:', r_square)\n"
   ]
  },
  {
   "cell_type": "code",
   "execution_count": 35,
   "id": "cheap-labor",
   "metadata": {},
   "outputs": [
    {
     "data": {
      "text/plain": [
       "214340359268.7075"
      ]
     },
     "execution_count": 35,
     "metadata": {},
     "output_type": "execute_result"
    }
   ],
   "source": [
    "from sklearn.metrics import mean_squared_error\n",
    "MSE_L = mean_squared_error(y_test, y_predict_slr)\n",
    "MSE_L"
   ]
  },
  {
   "cell_type": "code",
   "execution_count": 36,
   "id": "satellite-geometry",
   "metadata": {},
   "outputs": [
    {
     "data": {
      "text/plain": [
       "462969.06945141323"
      ]
     },
     "execution_count": 36,
     "metadata": {},
     "output_type": "execute_result"
    }
   ],
   "source": [
    "RMSE_L = math.sqrt(MSE_L)\n",
    "RMSE_L\n",
    "\n",
    "# RMSE is the standard deviation of the errors which occur when a prediction is made.\n",
    "# This is same as MSE but the root of the value is considered while determining the \n",
    "# accuracy of the model"
   ]
  },
  {
   "cell_type": "code",
   "execution_count": 37,
   "id": "ancient-barcelona",
   "metadata": {},
   "outputs": [
    {
     "data": {
      "text/plain": [
       "373035.7142857143"
      ]
     },
     "execution_count": 37,
     "metadata": {},
     "output_type": "execute_result"
    }
   ],
   "source": [
    "from sklearn.metrics import mean_absolute_error\n",
    "MAE_L = mean_absolute_error(y_test, y_predict_slr)\n",
    "MAE_L\n",
    "\n",
    "# Absolute difference means if the result is negative sign, it is ignored. MAE takes the average of\n",
    "# this error from every sample"
   ]
  },
  {
   "cell_type": "markdown",
   "id": "disabled-plane",
   "metadata": {},
   "source": [
    "### Performance of Polynomial Linear Regression"
   ]
  },
  {
   "cell_type": "code",
   "execution_count": 51,
   "id": "alone-brooklyn",
   "metadata": {},
   "outputs": [
    {
     "name": "stdout",
     "output_type": "stream",
     "text": [
      "R-Square Error of Polynomial Regression is: -0.49457292211756454\n"
     ]
    }
   ],
   "source": [
    "y_predict_pr = PolyModel.predict(poly.fit_transform(X_test))\n",
    "\n",
    "\n",
    "from sklearn import metrics\n",
    "r_square = metrics.r2_score(y_test, y_predict_pr)\n",
    "print('R-Square Error of Polynomial Regression is:', r_square)\n"
   ]
  },
  {
   "cell_type": "code",
   "execution_count": 52,
   "id": "reflected-foster",
   "metadata": {},
   "outputs": [
    {
     "data": {
      "text/plain": [
       "129529653250.18892"
      ]
     },
     "execution_count": 52,
     "metadata": {},
     "output_type": "execute_result"
    }
   ],
   "source": [
    "from sklearn.metrics import mean_squared_error\n",
    "MSE_P = mean_squared_error(y_test, y_predict_pr)\n",
    "MSE_P"
   ]
  },
  {
   "cell_type": "code",
   "execution_count": 53,
   "id": "micro-drama",
   "metadata": {},
   "outputs": [
    {
     "data": {
      "text/plain": [
       "359902.28291883465"
      ]
     },
     "execution_count": 53,
     "metadata": {},
     "output_type": "execute_result"
    }
   ],
   "source": [
    "RMSE_P = math.sqrt(MSE_P)\n",
    "RMSE_P"
   ]
  },
  {
   "cell_type": "code",
   "execution_count": 54,
   "id": "dated-bulletin",
   "metadata": {},
   "outputs": [
    {
     "data": {
      "text/plain": [
       "271150.79365079355"
      ]
     },
     "execution_count": 54,
     "metadata": {},
     "output_type": "execute_result"
    }
   ],
   "source": [
    "MAE_P = mean_absolute_error(y_test, y_predict_pr)\n",
    "MAE_P"
   ]
  }
 ],
 "metadata": {
  "kernelspec": {
   "display_name": "Python 3",
   "language": "python",
   "name": "python3"
  },
  "language_info": {
   "codemirror_mode": {
    "name": "ipython",
    "version": 3
   },
   "file_extension": ".py",
   "mimetype": "text/x-python",
   "name": "python",
   "nbconvert_exporter": "python",
   "pygments_lexer": "ipython3",
   "version": "3.8.5"
  }
 },
 "nbformat": 4,
 "nbformat_minor": 5
}
